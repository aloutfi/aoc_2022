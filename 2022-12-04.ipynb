{
 "cells": [
  {
   "cell_type": "markdown",
   "id": "842efd43-2e13-4e47-8287-82b4ce987038",
   "metadata": {},
   "source": [
    "# https://adventofcode.com/2022/day/4"
   ]
  },
  {
   "cell_type": "markdown",
   "id": "b8c44da1-77f1-4104-b4c8-35a1d4ce6d0f",
   "metadata": {},
   "source": [
    " ## Initial approach\n",
    " 1. list of assignment_pairs\n",
    "     - each assignment pair as a list containing 2 sets.\n",
    " 2. for each pairing, determine if one is a __proper subset__ of another. Increment counter if true\n",
    " \n",
    " \n",
    " ## Bonus\n",
    " \n",
    " 1. elf_1 & elf_2 (intersection)"
   ]
  },
  {
   "cell_type": "code",
   "execution_count": null,
   "id": "57a97b8d-bdb2-4056-b543-9b6d99c52533",
   "metadata": {
    "scrolled": true,
    "tags": []
   },
   "outputs": [],
   "source": [
    "with open(\"data/day_4_input.txt\") as file:\n",
    "    raw_input = file.read()\n",
    "raw_assignment_pairs = [pairing.split() for pairing in raw_input.split(\"\\n\")]\n",
    "raw_assignment_pairs"
   ]
  },
  {
   "cell_type": "code",
   "execution_count": null,
   "id": "4be83df9-0363-4abd-b151-b0952931a659",
   "metadata": {},
   "outputs": [],
   "source": [
    "def range_of_sections(elf: list) -> set:\n",
    "    min_section, max_section = [int(section) for section in elf.split(\"-\")]\n",
    "    return set(range(min_section, max_section + 1))\n",
    "\n",
    "\n",
    "pairings_count = 0\n",
    "intersection_count = 0  # Bonus\n",
    "for raw_pair in raw_assignment_pairs:\n",
    "    pair = raw_pair[0].split(\",\")\n",
    "    elf_1 = range_of_sections(pair[0])\n",
    "    elf_2 = range_of_sections(pair[1])\n",
    "    if elf_1 <= elf_2 or elf_2 <= elf_1:\n",
    "        pairings_count += 1\n",
    "\n",
    "    if elf_1 & elf_2:\n",
    "        intersection_count += 1\n",
    "\n",
    "print(f\"Pairings_count: {pairings_count}\")\n",
    "print(f\"Intersection_count {intersection_count}\")"
   ]
  }
 ],
 "metadata": {
  "kernelspec": {
   "display_name": "Python 3 (ipykernel)",
   "language": "python",
   "name": "python3"
  },
  "language_info": {
   "codemirror_mode": {
    "name": "ipython",
    "version": 3
   },
   "file_extension": ".py",
   "mimetype": "text/x-python",
   "name": "python",
   "nbconvert_exporter": "python",
   "pygments_lexer": "ipython3",
   "version": "3.10.8"
  }
 },
 "nbformat": 4,
 "nbformat_minor": 5
}
