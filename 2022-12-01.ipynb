{
 "cells": [
  {
   "cell_type": "markdown",
   "id": "e94610c0-d5a1-4273-bbb8-b3171d52d2a2",
   "metadata": {},
   "source": [
    " # https://adventofcode.com/2022/day/1"
   ]
  },
  {
   "cell_type": "markdown",
   "id": "b0269ef0-e684-4e34-b33d-97c2c80d3c4f",
   "metadata": {},
   "source": [
    "# Proposed solution\n",
    "1. convert the file from a string of text to a list of values. split on newline\n",
    "2. split into sublists based on empty string, where each sublist is a the representation of calories carried by elf\n",
    "    - the length of this list == number of elves\n",
    "3. sum sublists inplace. return list of numbers  \n",
    "    - rep each element (except empty string at position 0) as an int\n",
    "4. get max value from the list\n",
    "    - I read this wrong. I thought I needed the index\n",
    "\n",
    "# Bonus\n",
    "1. sort list in descending order\n",
    "2. sum first 3 elements"
   ]
  },
  {
   "cell_type": "code",
   "execution_count": null,
   "id": "28a414de-c25d-44c0-a8bd-16bbf3f171b4",
   "metadata": {
    "scrolled": true,
    "tags": []
   },
   "outputs": [],
   "source": [
    "with open('aoc_2022/data/day_1_input.txt') as file:\n",
    "    raw_input = file.read()\n",
    "input_lst = raw_input.split('\\n')\n",
    "input_lst"
   ]
  },
  {
   "cell_type": "code",
   "execution_count": null,
   "id": "1fdfb4e7-7991-4380-9a22-27e36e0cd782",
   "metadata": {
    "scrolled": true,
    "tags": []
   },
   "outputs": [],
   "source": [
    "# https://stackoverflow.com/a/69834459\n",
    "calories_per_elf = []\n",
    "calories_per_elf.extend([x] for x in input_lst if x == '' or calories_per_elf[-1].append(x))\n",
    "calories_per_elf"
   ]
  },
  {
   "cell_type": "code",
   "execution_count": null,
   "id": "15cfc7fc-8c8d-4c8b-bde9-4f3cdb867647",
   "metadata": {
    "scrolled": true,
    "tags": []
   },
   "outputs": [],
   "source": [
    "calory_count_per_elf = []\n",
    "for elven_payload in calories_per_elf:\n",
    "    calory_count_per_elf.append(sum([int(payload) for payload in elven_payload[1:]]))\n",
    "max(calory_count_per_elf)"
   ]
  },
  {
   "cell_type": "code",
   "execution_count": null,
   "id": "9e848992-e1f0-4c61-87a2-e414652bf9e4",
   "metadata": {},
   "outputs": [],
   "source": [
    "calory_count_per_elf.sort(reverse=True)\n",
    "sum(calory_count_per_elf[:3])"
   ]
  }
 ],
 "metadata": {
  "kernelspec": {
   "display_name": "Jupyterenv",
   "language": "python",
   "name": "jupyter-env"
  },
  "language_info": {
   "codemirror_mode": {
    "name": "ipython",
    "version": 3
   },
   "file_extension": ".py",
   "mimetype": "text/x-python",
   "name": "python",
   "nbconvert_exporter": "python",
   "pygments_lexer": "ipython3",
   "version": "3.10.3"
  }
 },
 "nbformat": 4,
 "nbformat_minor": 5
}
