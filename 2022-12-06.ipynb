{
 "cells": [
  {
   "cell_type": "markdown",
   "id": "9927b4fd-9b54-4a57-befb-55ef8b16d385",
   "metadata": {},
   "source": [
    "# https://adventofcode.com/2022/day/6"
   ]
  },
  {
   "cell_type": "markdown",
   "id": "f91e3818-b6a9-4d66-9ee3-f84cb1b2edfa",
   "metadata": {},
   "source": [
    "> identify the first position where the four most recently received characters were all different\n",
    "```\n",
    "lower_bound = 0\n",
    "uppder_bound = 4\n",
    "while upper bound is less than the length of the list\n",
    "    payload = set(raw_input[lower_bound:upper_bound])\n",
    "    if len(payload) == 4:\n",
    "        return upper_bound\n",
    "    lower_bound +=1\n",
    "    upper_bound +=1\n",
    "```\n",
    "\n",
    "Bonus\n",
    "- Modify function to take marker length as a parameter"
   ]
  },
  {
   "cell_type": "code",
   "execution_count": 7,
   "id": "a3b1b59c-f50f-4e3f-9ffc-b99ca3dfec91",
   "metadata": {},
   "outputs": [
    {
     "data": {
      "text/plain": [
       "'bbbf'"
      ]
     },
     "execution_count": 7,
     "metadata": {},
     "output_type": "execute_result"
    }
   ],
   "source": [
    "with open(\"data/day_6_input.txt\") as file:\n",
    "    raw_input = file.read()"
   ]
  },
  {
   "cell_type": "code",
   "execution_count": 10,
   "id": "0be7b6f2-97e5-408f-9927-db36fa8eabdd",
   "metadata": {},
   "outputs": [
    {
     "data": {
      "text/plain": [
       "1142"
      ]
     },
     "execution_count": 10,
     "metadata": {},
     "output_type": "execute_result"
    }
   ],
   "source": [
    "def get_index_of_start_packet(raw_input: str, marker_length: int) -> int:\n",
    "    \"\"\"\n",
    "    Identify the first position where the four most\n",
    "    recently received characters were all different\n",
    "    \"\"\"\n",
    "    lower_bound = 0\n",
    "    upper_bound = marker_length\n",
    "    while upper_bound <= len(raw_input):\n",
    "        payload = set(raw_input[lower_bound:upper_bound])\n",
    "        if len(payload) == marker_length:\n",
    "            return upper_bound\n",
    "        lower_bound += 1\n",
    "        upper_bound += 1\n",
    "\n",
    "\n",
    "get_index_of_start_packet(raw_input, 4)"
   ]
  },
  {
   "cell_type": "code",
   "execution_count": 11,
   "id": "458c5d4f-cb40-46d6-9cfb-8698375dcf6a",
   "metadata": {},
   "outputs": [
    {
     "data": {
      "text/plain": [
       "2803"
      ]
     },
     "execution_count": 11,
     "metadata": {},
     "output_type": "execute_result"
    }
   ],
   "source": [
    "get_index_of_start_packet(raw_input, 14)"
   ]
  },
  {
   "cell_type": "code",
   "execution_count": null,
   "id": "a2466bff-da88-4997-adbb-79624f5c213a",
   "metadata": {},
   "outputs": [],
   "source": []
  }
 ],
 "metadata": {
  "kernelspec": {
   "display_name": "Jupyterenv",
   "language": "python",
   "name": "jupyter-env"
  },
  "language_info": {
   "codemirror_mode": {
    "name": "ipython",
    "version": 3
   },
   "file_extension": ".py",
   "mimetype": "text/x-python",
   "name": "python",
   "nbconvert_exporter": "python",
   "pygments_lexer": "ipython3",
   "version": "3.10.3"
  }
 },
 "nbformat": 4,
 "nbformat_minor": 5
}
