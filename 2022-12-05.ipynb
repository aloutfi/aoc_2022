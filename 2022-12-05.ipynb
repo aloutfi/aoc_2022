{
 "cells": [
  {
   "cell_type": "markdown",
   "id": "c0d6c30d-0af6-4a0f-8769-c9ead29aafaf",
   "metadata": {},
   "source": [
    "# https://adventofcode.com/2022/day/5"
   ]
  },
  {
   "cell_type": "markdown",
   "id": "5effe00a-a716-4791-84a1-6a885a65d0e0",
   "metadata": {},
   "source": [
    "# Approach\n",
    "\n",
    "1. Input (manual, because I'm lazy.)\n",
    "  - lists of stacks (limit opperations to append and pop to simulate stack datastructure)\n",
    "  - list of moves: [operation, input_stack, output_stack]\n",
    "  \n",
    "2. iterate over list of moves:\n",
    "    - for moves\n",
    "        output_stack.append(input_stack.pop())\n",
    "\n",
    "Bonus\n",
    "1. Reset Input\n",
    "\n",
    "2. For each move:\n",
    "    - slice by payload\n",
    "    - trim payload from input\n",
    "    - add payload to output\n"
   ]
  },
  {
   "cell_type": "code",
   "execution_count": null,
   "id": "d3318ede-3665-4aeb-bdcc-6165d37c012c",
   "metadata": {},
   "outputs": [],
   "source": [
    "with open(\"data/day_5_input.txt\") as file:\n",
    "    raw_input = file.read()\n",
    "\n",
    "stack_table, raw_move_list = raw_input.split(\"\\n\\n\")\n",
    "move_list = raw_move_list.split(\"\\n\")\n",
    "print(stack_table)"
   ]
  },
  {
   "cell_type": "code",
   "execution_count": null,
   "id": "d9400196-a149-4de6-a552-98fb66a4b71d",
   "metadata": {},
   "outputs": [],
   "source": [
    "stacks = {\n",
    "    1: [\"J\", \"F\", \"C\", \"N\", \"D\", \"B\", \"W\"],\n",
    "    2: [\"T\", \"S\", \"L\", \"Q\", \"V\", \"Z\", \"P\"],\n",
    "    3: [\"T\", \"J\", \"G\", \"B\", \"Z\", \"P\"],\n",
    "    4: [\"C\", \"H\", \"B\", \"Z\", \"J\", \"L\", \"T\", \"D\"],\n",
    "    5: [\"S\", \"J\", \"B\", \"V\", \"G\"],\n",
    "    6: [\"Q\", \"S\", \"P\"],\n",
    "    7: [\"N\", \"P\", \"M\", \"L\", \"F\", \"D\", \"V\", \"B\"],\n",
    "    8: [\"R\", \"L\", \"D\", \"B\", \"F\", \"M\", \"S\", \"P\"],\n",
    "    9: [\"R\", \"T\", \"D\", \"V\"],\n",
    "}\n",
    "\n",
    "for stack in stacks:\n",
    "    stacks[stack].reverse()\n",
    "stacks"
   ]
  },
  {
   "cell_type": "code",
   "execution_count": null,
   "id": "913981fd-0cbc-4d87-a66c-6c5f2a297049",
   "metadata": {},
   "outputs": [],
   "source": [
    "for raw_move in move_list:\n",
    "    move = raw_move.split()\n",
    "    operations = int(move[1])\n",
    "    input_stack = int(move[3])\n",
    "    output_stack = int(move[-1])\n",
    "    for _ in range(0, operations):\n",
    "        stacks[output_stack].append(stacks[input_stack].pop())\n",
    "stacks"
   ]
  },
  {
   "cell_type": "markdown",
   "id": "1cbcd2ba-9793-47d7-88ef-3d3765bf7e2b",
   "metadata": {},
   "source": [
    "# Bonus"
   ]
  },
  {
   "cell_type": "code",
   "execution_count": null,
   "id": "984c1289-094c-4a18-b3b2-efc8baa74a7c",
   "metadata": {},
   "outputs": [],
   "source": [
    "stacks = {\n",
    "    1: [\"J\", \"F\", \"C\", \"N\", \"D\", \"B\", \"W\"],\n",
    "    2: [\"T\", \"S\", \"L\", \"Q\", \"V\", \"Z\", \"P\"],\n",
    "    3: [\"T\", \"J\", \"G\", \"B\", \"Z\", \"P\"],\n",
    "    4: [\"C\", \"H\", \"B\", \"Z\", \"J\", \"L\", \"T\", \"D\"],\n",
    "    5: [\"S\", \"J\", \"B\", \"V\", \"G\"],\n",
    "    6: [\"Q\", \"S\", \"P\"],\n",
    "    7: [\"N\", \"P\", \"M\", \"L\", \"F\", \"D\", \"V\", \"B\"],\n",
    "    8: [\"R\", \"L\", \"D\", \"B\", \"F\", \"M\", \"S\", \"P\"],\n",
    "    9: [\"R\", \"T\", \"D\", \"V\"],\n",
    "}\n",
    "\n",
    "for stack in stacks:\n",
    "    stacks[stack].reverse()\n",
    "\n",
    "for raw_move in move_list:\n",
    "    move = raw_move.split()\n",
    "    operations = int(move[1])\n",
    "    input_stack = int(move[3])\n",
    "    output_stack = int(move[-1])\n",
    "    payload = stacks[input_stack][-operations:]\n",
    "    stacks[input_stack] = stacks[input_stack][:-operations]\n",
    "    stacks[output_stack] = stacks[output_stack] + payload\n",
    "\n",
    "stacks"
   ]
  }
 ],
 "metadata": {
  "kernelspec": {
   "display_name": "Python 3 (ipykernel)",
   "language": "python",
   "name": "python3"
  },
  "language_info": {
   "codemirror_mode": {
    "name": "ipython",
    "version": 3
   },
   "file_extension": ".py",
   "mimetype": "text/x-python",
   "name": "python",
   "nbconvert_exporter": "python",
   "pygments_lexer": "ipython3",
   "version": "3.10.8"
  }
 },
 "nbformat": 4,
 "nbformat_minor": 5
}
