{
 "cells": [
  {
   "cell_type": "markdown",
   "id": "2b73cc85-8166-4f9a-a61c-33121e9f4ab4",
   "metadata": {},
   "source": [
    "# https://adventofcode.com/2022/day/3"
   ]
  },
  {
   "cell_type": "markdown",
   "id": "fc837ef6-239e-4e78-b311-b19f9414bae1",
   "metadata": {},
   "source": [
    "1. List of strings\n",
    "2. For each string:\n",
    "    - split into 2 substrings of equal length\n",
    "    - Apply set theory\n",
    "    - get intersection\n",
    "3. Map resulting values to score\n",
    "\n",
    "# Bonus\n",
    "1. split `rucksacks` into sublists of 3 rucksacks\n",
    "2. apply set theory for each rucksack\n",
    "3. Get intersection (badge) between all rucksacks\n",
    "4. Map badge priority to priority map\n",
    "5. Sum total intersections"
   ]
  },
  {
   "cell_type": "code",
   "execution_count": null,
   "id": "c1e26a44-3ab6-4601-bbe3-f12b998838a6",
   "metadata": {
    "scrolled": true,
    "tags": []
   },
   "outputs": [],
   "source": [
    "import string\n",
    "\n",
    "alphabet = string.ascii_letters\n",
    "priority_map = dict(zip(alphabet, range(1, 53)))  # OFFSET\n",
    "priority_map"
   ]
  },
  {
   "cell_type": "code",
   "execution_count": null,
   "id": "8e378529-e2ae-4c79-85ea-97666b30ff00",
   "metadata": {
    "scrolled": true,
    "tags": []
   },
   "outputs": [],
   "source": [
    "with open(\"data/day_3_input.txt\") as file:\n",
    "    raw_input = file.read()\n",
    "rucksacks = raw_input.split(\"\\n\")\n",
    "rucksacks"
   ]
  },
  {
   "cell_type": "code",
   "execution_count": null,
   "id": "7f97a671-e0f5-496a-8729-bf1ad0b75e04",
   "metadata": {},
   "outputs": [],
   "source": [
    "shared_item_priorities = []\n",
    "for rucksack in rucksacks:\n",
    "    compartment_1, compartment_2 = (\n",
    "        rucksack[: len(rucksack) // 2],\n",
    "        rucksack[len(rucksack) // 2 :],\n",
    "    )\n",
    "    shared_item_set = set(compartment_1) & set(compartment_2)\n",
    "    shared_item = list(shared_item_set)[0]\n",
    "    shared_item_priorities.append(priority_map[shared_item])\n",
    "sum(shared_item_priorities)"
   ]
  },
  {
   "cell_type": "markdown",
   "id": "79bd2917-dc64-4c29-a99a-99d49968b9ba",
   "metadata": {},
   "source": [
    "# Bonus"
   ]
  },
  {
   "cell_type": "code",
   "execution_count": null,
   "id": "9ffda2d7-c870-45f3-9a45-7399e96fcb4d",
   "metadata": {},
   "outputs": [],
   "source": [
    "groups = [rucksacks[i : i + 3] for i in range(0, len(rucksacks), 3)]\n",
    "\n",
    "badge_priorities = []\n",
    "for group in groups:\n",
    "    rucksack_1_set = set(group[0])\n",
    "    rucksack_2_set = set(group[1])\n",
    "    rucksack_3_set = set(group[2])\n",
    "\n",
    "    badge = (rucksack_1_set & rucksack_2_set & rucksack_3_set).pop()\n",
    "    badge_priorities.append(priority_map[badge])\n",
    "\n",
    "sum(badge_priorities)"
   ]
  },
  {
   "cell_type": "code",
   "execution_count": null,
   "id": "94fbd424-9e0f-4092-aac1-f4089e08c813",
   "metadata": {},
   "outputs": [],
   "source": []
  }
 ],
 "metadata": {
  "kernelspec": {
   "display_name": "python310-kernel",
   "language": "python",
   "name": "python310-kernel"
  },
  "language_info": {
   "codemirror_mode": {
    "name": "ipython",
    "version": 3
   },
   "file_extension": ".py",
   "mimetype": "text/x-python",
   "name": "python",
   "nbconvert_exporter": "python",
   "pygments_lexer": "ipython3",
   "version": "3.10.0"
  }
 },
 "nbformat": 4,
 "nbformat_minor": 5
}
