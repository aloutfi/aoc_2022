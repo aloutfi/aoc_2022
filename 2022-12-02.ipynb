{
 "cells": [
  {
   "cell_type": "markdown",
   "id": "5e88a7e9-74fe-4fd9-97a9-167731f965ef",
   "metadata": {},
   "source": [
    " # https://adventofcode.com/2022/day/2"
   ]
  },
  {
   "cell_type": "markdown",
   "id": "58eacb2a-a36b-4ca1-96ab-cbcf4771cdb7",
   "metadata": {},
   "source": [
    "1. Convert the file from a string of text into a list of games\n",
    "    - each game is a list containg each player's move.\n",
    "2. Sum Scores per game for player 2\n",
    "    - convert values to scores (int)\n",
    "    - determine win modifier (0 for loss, 3 for draw, 6 for win)\n",
    "       - win: `player_2_score - 1 == player_1_score or player_2_score + 2 == player_1_score`\n",
    "    - sum score + modifier\n",
    "3. Return sum of list\n",
    "\n",
    "Bonus\n",
    "1. game: `[player_1_score, player_2_outcome]`\n",
    "2. work backward and handle scores per case.\n",
    "   > - In the first round, your opponent will choose Rock (`A`), and you need the round to end in a draw (`Y`), so you also choose Rock. This gives you a score of `1 + 3 = 4`.\n",
    "   > - In the second round, your opponent will choose Paper (`B`), and you choose Rock so you lose (`X`) with a score of `1 + 0 = 1`.\n",
    "   > - In the third round, you will defeat your opponent's Scissors with Rock for a score of `1 + 6 = 7`."
   ]
  },
  {
   "cell_type": "code",
   "execution_count": null,
   "id": "f512fee2-eb70-4ebe-8c51-097b4464d5b3",
   "metadata": {
    "scrolled": true,
    "tags": []
   },
   "outputs": [],
   "source": [
    "with open(\"data/day_2_input.txt\") as file:\n",
    "    raw_input = file.read()\n",
    "raw_games = raw_input.split(\"\\n\")\n",
    "games = [raw_game.split() for raw_game in raw_games]\n",
    "games"
   ]
  },
  {
   "cell_type": "code",
   "execution_count": null,
   "id": "297cca67-cc6c-4c11-b48f-d7617c179c49",
   "metadata": {},
   "outputs": [],
   "source": [
    "score_map = {\"A\": 1, \"B\": 2, \"C\": 3, \"X\": 1, \"Y\": 2, \"Z\": 3}\n",
    "\n",
    "win_modifier = 6\n",
    "draw_modifier = 3\n",
    "lose_modifier = 0\n",
    "\n",
    "player_2_game_scores = []\n",
    "\n",
    "for game in games:\n",
    "    player_1_score = score_map[game[0]]\n",
    "    player_2_score = score_map[game[1]]\n",
    "\n",
    "    score_modifier = lose_modifier\n",
    "    if player_2_score == player_1_score:\n",
    "        score_modifier = draw_modifier\n",
    "    elif player_2_score - 1 == player_1_score or player_2_score + 2 == player_1_score:\n",
    "        score_modifier = win_modifier\n",
    "\n",
    "    player_2_game_scores.append(player_2_score + score_modifier)\n",
    "\n",
    "sum(player_2_game_scores)"
   ]
  },
  {
   "cell_type": "code",
   "execution_count": null,
   "id": "1900513d-3341-471d-bda0-dac8975ab794",
   "metadata": {},
   "outputs": [],
   "source": [
    "player_1_score_map = {\"A\": 1, \"B\": 2, \"C\": 3}\n",
    "\n",
    "player_2_outcome_map = {\"X\": 0, \"Y\": 3, \"Z\": 6}\n",
    "\n",
    "player_2_game_scores = []\n",
    "for game in games:\n",
    "    player_1_score = player_1_score_map[game[0]]\n",
    "    player_2_outcome = player_2_outcome_map[game[1]]\n",
    "\n",
    "    player_2_score = player_1_score\n",
    "\n",
    "    # Player 2 wins\n",
    "    if player_2_outcome == 6:\n",
    "        player_2_score = 1  # Player 1 plays scissors\n",
    "        if player_1_score == 1:\n",
    "            player_2_score = 2\n",
    "        elif player_1_score == 2:\n",
    "            player_2_score = 3\n",
    "\n",
    "    # Player 2 loses\n",
    "    elif player_2_outcome == 0:\n",
    "        player_2_score = 2  # Player 1 plays scissors\n",
    "        if player_1_score == 1:\n",
    "            player_2_score = 3\n",
    "        elif player_1_score == 2:\n",
    "            player_2_score = 1\n",
    "\n",
    "    player_2_game_scores.append(player_2_score + player_2_outcome)\n",
    "sum(player_2_game_scores)"
   ]
  },
  {
   "cell_type": "code",
   "execution_count": null,
   "id": "4f130ff5-f422-4bb8-bbdf-714ba066f51e",
   "metadata": {},
   "outputs": [],
   "source": []
  }
 ],
 "metadata": {
  "kernelspec": {
   "display_name": "Python 3 (ipykernel)",
   "language": "python",
   "name": "python3"
  },
  "language_info": {
   "codemirror_mode": {
    "name": "ipython",
    "version": 3
   },
   "file_extension": ".py",
   "mimetype": "text/x-python",
   "name": "python",
   "nbconvert_exporter": "python",
   "pygments_lexer": "ipython3",
   "version": "3.10.8"
  }
 },
 "nbformat": 4,
 "nbformat_minor": 5
}
